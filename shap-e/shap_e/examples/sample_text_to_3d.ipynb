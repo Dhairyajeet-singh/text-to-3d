version https://git-lfs.github.com/spec/v1
oid sha256:8b473133a5729fb73f6f0b82b4f8346001e6d16be346506480bf589e61771797
size 3364
